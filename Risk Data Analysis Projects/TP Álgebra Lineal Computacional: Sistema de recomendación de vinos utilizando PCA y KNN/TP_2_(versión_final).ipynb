{
  "cells": [
    {
      "cell_type": "markdown",
      "metadata": {
        "id": "view-in-github",
        "colab_type": "text"
      },
      "source": [
        "<a href=\"https://colab.research.google.com/github/ninetales2002/Portfolio/blob/main/Risk%20Data%20Analysis%20Projects/TP%20%C3%81lgebra%20Lineal%20Computacional%3A%20Sistema%20de%20recomendaci%C3%B3n%20de%20vinos%20utilizando%20PCA%20y%20KNN/TP_2_(versi%C3%B3n_final).ipynb\" target=\"_parent\"><img src=\"https://colab.research.google.com/assets/colab-badge.svg\" alt=\"Open In Colab\"/></a>"
      ]
    },
    {
      "cell_type": "markdown",
      "id": "6658c988-1081-4b30-95c4-8d35799cb7eb",
      "metadata": {
        "id": "6658c988-1081-4b30-95c4-8d35799cb7eb"
      },
      "source": [
        "Last<div class=\"pull-right\"><img src=\"logoDC.jpeg\" width=\"500\" height=\"500\" /></div/>"
      ]
    },
    {
      "cell_type": "markdown",
      "id": "5964017d-b18e-457c-9fb9-ec57281f5b0f",
      "metadata": {
        "id": "5964017d-b18e-457c-9fb9-ec57281f5b0f"
      },
      "source": [
        "# Trabajo Practico 2"
      ]
    },
    {
      "cell_type": "markdown",
      "id": "baddf8d9-3f9b-41de-a2ca-ea6cedae06d4",
      "metadata": {
        "id": "baddf8d9-3f9b-41de-a2ca-ea6cedae06d4"
      },
      "source": [
        "***\n",
        "<div class=\"pull-left\">29 de octubre de 2023 </div><div class=\"pull-right\">Algebra lineal computacional</div>"
      ]
    },
    {
      "cell_type": "markdown",
      "id": "8535f91e-76ac-41c2-aba7-f0ef26dd864e",
      "metadata": {
        "id": "8535f91e-76ac-41c2-aba7-f0ef26dd864e"
      },
      "source": [
        "<div class=\"pull-right\">Docentes: Constanza Sanchez Vega, Pablo Negri, Ignacio Gonzalez Tafler  </div>\n",
        "<div class=\"pull-right\">JPT: Silvina Dengra  </div>\n",
        "<div class=\"pull-right\">Ayudante de 1ra: Juan Winograd  </div>\n",
        "<div class=\"pull-right\">Ayudantes de 2ra: Dario Turco, Gonzalo Carabajal, Guido Freire  </div>"
      ]
    },
    {
      "cell_type": "markdown",
      "id": "ceae39af-e346-4126-888e-60f13eafe7de",
      "metadata": {
        "id": "ceae39af-e346-4126-888e-60f13eafe7de"
      },
      "source": [
        "| Integrante | LU | Correo electrónico |\n",
        "| -- | -- | -- |\n",
        "| Micaela Pego | 380/22 | micaelapego@gmail.com |\n",
        "| Antony Suarez | 792/21 | sebastsuar@gmail.com |"
      ]
    },
    {
      "cell_type": "markdown",
      "id": "6011e8d6-6499-4869-97de-2cd0220039ba",
      "metadata": {
        "id": "6011e8d6-6499-4869-97de-2cd0220039ba"
      },
      "source": [
        "# Tabla de contenidos\n",
        "\n",
        "* [Introducción](#Introducción)\n",
        "* [Ejercicios](#Ejercicios)"
      ]
    },
    {
      "cell_type": "markdown",
      "id": "22abb644-10e7-4b21-8d2b-44a2cb21baf1",
      "metadata": {
        "id": "22abb644-10e7-4b21-8d2b-44a2cb21baf1"
      },
      "source": [
        "# Introducción\n",
        "\n",
        "El objetivo principal de este trabajo práctico es reducir la complejidad de un conjunto de datos y construir un sistema de recomendación de vinos para los clientes de una tienda de vinos.  \n",
        "Para ello emplearemos la técnica de análisis de componentes principales (PCA) con el objetivo reducir de la dimensionalidad, la cual nos permite transformar nuestro conjunto inicial de datos (matriz M) de alta dimension a un espacio de menor dimension, conservando la mayor parte de la informacion. Esto lo logramos identificando las direcciones que capturan la mayor variacion de datos y proyectando los datos en tales direcciones, que se denominan componentes principales.\n",
        "\n"
      ]
    },
    {
      "cell_type": "markdown",
      "id": "60dc1d5f-0bab-414a-a58a-dced4fd000d1",
      "metadata": {
        "id": "60dc1d5f-0bab-414a-a58a-dced4fd000d1"
      },
      "source": [
        "### Importamos librerías"
      ]
    },
    {
      "cell_type": "code",
      "execution_count": null,
      "id": "c45075fe-95d9-4748-b181-6ad5d7ac98dd",
      "metadata": {
        "id": "c45075fe-95d9-4748-b181-6ad5d7ac98dd"
      },
      "outputs": [],
      "source": [
        "import numpy as np\n",
        "import pandas as pd\n",
        "import matplotlib.pyplot as plt\n",
        "import csv\n",
        "import heapq\n",
        "import seaborn as sns\n",
        "from mpl_toolkits.mplot3d import Axes3D\n",
        "from matplotlib.colors import ListedColormap\n",
        "import plotly.graph_objects as go\n",
        "import plotly.express as px\n",
        "from sklearn.model_selection import train_test_split"
      ]
    },
    {
      "cell_type": "markdown",
      "id": "-alnJyUlf6r1",
      "metadata": {
        "id": "-alnJyUlf6r1"
      },
      "source": [
        "## Ejercicio 1.\n",
        "Seguir los siguientes pasos para implementar un sistema de recomendación de vinos:\n",
        "\n",
        "(a) Descargar los datos.\n",
        "\n",
        "(b) Separar los datos en variables independientes (X) y dependiente (Y).\n",
        "\n",
        "(c) Normalizar y centrar los datos. Como puede verse el conjunto de datos no está normalizado y puede estar desplazado del origen. Se pide construir una función en python que normalice y centre los valores respecto del promedio. Es decir, aplicar a cada variable dependiente:\n",
        "\n",
        "xi = (Xi − X)/s,\n",
        "X = (PN i=1 Xi)/N\n",
        "s =\n",
        "\n",
        "¿Por qué es importante este paso?\n",
        "\n",
        "(d) Calcular la matriz de covarianza. ¿Qué representa la matriz de covarianza? ¿Qué dimensiones tiene y qué propiedades cumple?\n",
        "\n",
        "(e) Encontrar el máximo de los autovalores, y su correspondiente autovector, de la matriz de\n",
        "covarianza hallada en el item anterior por el método de la potencia. Implementar una función que dada una matriz encuente el máximo autovalor y su correspondiente autovector.\n",
        "\n",
        "(f) Modificar la función anterior para encontrar (además del máximo) los siguientes n autovalores sucesivos y sus respectivos autovectores. Además de la matriz, n debe ser parámetro de entrada\n",
        "de la función.\n",
        "\n",
        "¿Cómo se relaciona la cantidad de autovalores con la cantidad de propiedades de los vinos?\n",
        "\n",
        "¿Qué representan cada unos de los autovectores correspondientes?\n",
        "\n",
        "\n",
        "(g) Finalmente, dado un conjunto de características de un vino en particular, obtener su clasificación, es decir, a qué segmento de cliente pertenece. Para ello, se utiliza el método de PCA a\n",
        "partir de los componentes hallados en los items anteriores. La función debe tomar como dato\n",
        "de entrada el o los vinos a clasificar y el/los autovectores principales hallados con anterioridad.\n",
        "\n",
        "En primera aproximación utilizaremos el conocido algoritmo de k vecinos más cercanos o kNN\n",
        "[1], por su sigla en inglés, para asignar la clasificación. En su versión más simple, este algoritmo\n",
        "considera a cada objeto de la base de entrenamiento como un punto en el espacio euclídeo mdimensional (que se corresponde con la cantidad de características de cada vino), para el cual\n",
        "se conoce a qué clase corresponde (en nuestro caso, \"Segmento Cliente\") para luego, dado un nuevo objeto, asociarle la clase del o los puntos más cercanos de la base de datos.\n",
        "\n",
        "\n"
      ]
    },
    {
      "cell_type": "markdown",
      "id": "c-NkKZvnGivP",
      "metadata": {
        "id": "c-NkKZvnGivP"
      },
      "source": [
        "# Respuestas\n",
        "\n",
        "c)\n",
        "Antes de definir la función principal que llevará a cabo la tarea de centralizar la matriz, definimos dos funciones secundarias para calcular la media y el desvío por columna.\n",
        "\n",
        "Una vez hecho esto definimos la función principal centralizar(), que toma una matriz y obtiene los vectores con la media y el desvío llamando a las funciones anteriores. Luego resta a cada fila de la misma la media y divide por el desvío, obtieniendo así la matriz centralizada.\n",
        "\n",
        "Además definimos otra función, centralizar_test(), con el objetivo de posteriormente utilizarla para centralizar los datos de test con la media y desvío de los datos de entrenamiento.\n",
        "\n",
        "La primera componente principal en PCA se elige para capturar la mayor cantidad de varianza en los datos. Por este motivo, centralizar es un paso muy importante, pues al restar la media a los datos se obtiene un conjunto de datos de promedio igual a 0, de manera que se elimina el sesgo en la media.\n",
        "Si no se centralizan los datos, la primera componente principal se vería influenciada fuertemente por la media y no tanto por la variabilidad intrínseca de los datos.\n",
        "\n",
        "Por otro lado, los datos deben ser divididos en cada columna por su desviación estándar con el objetivo de estandarizar o normalizar las escalas de las variables. Si las variables tienen unidades o escalas diferentes, el análisis de PCA podría verse afectado por aquellas variables que tienen magnitudes más grandes. Al dividir por la desviación estándar, todas las variables quedan en la misma escala, lo que garantiza que cada variable tenga un peso comparable en el análisis. Esto además facilita la interpretación de las cargas de las variables en las componentes principales, es decir, cómo contribuyen las variables a cada componente principal.\n",
        "\n",
        "\n",
        "d)\n",
        "\n",
        "La matriz de covarianza es una matriz que contiene la covarianza entre pares de variables.\n",
        "\n",
        " Su dimensión depende de la cantidad de variables presentes y tendrá igual cantidad de filas que de columnas, es decir, es cuadrada. En este caso, como tenemos 13 variables, la matriz de covarianza es de 13x13.\n",
        "Esta matriz cuenta con las siguientes propiedades:\n",
        "1. Es simétrica, la covarianza entre dos variables en la posición i j es la misma que para esas mismas variables en la posición j i.\n",
        "1.  Cuando i=j se obtiene que la covarianza entre una variable y ella misma es la varianza. Es este caso, como además estamos dividiendo por el desvío en cada columna, se obtiene el desvío al cuadrado en el denominador el cual se cancela dando como resultado 1 en la diagonal.\n",
        "2. A partir de esta matriz se pueden calcular los componentes principales. Los autovectores de esta matriz corresponden a los autovectores de la matriz inicial.\n",
        "\n",
        "f)\n",
        "\n",
        "La cantidad de autovalores coincide con la dimensión de la matriz de covarianza, la cual a su vez es igual a la cantidad de variables. Cada autovalor de la matriz de covarianza representa la cantidad de varianza atribuída cada una de las componentes principales, las cuales corresponden a diferentes direcciones en el espacio de las variables.\n",
        "\n",
        "Por otra parte, los autovectores especifican la relación lineal entre las variables originales y las componentes principales. Los elementos del i-ésimo autovector corresponden a los coeficientes que indican cómo se ponderan las variables originales en la i-ésima componente principal.\n",
        "De esta manera, los autovectores obtenidos mediante la matriz de covarianza representan las direcciones de las componentes principales a lo largo de las cuales los datos tienen la máxima variabilidad."
      ]
    },
    {
      "cell_type": "code",
      "execution_count": null,
      "id": "d6005566-2f02-423c-a8be-491a60bbe73e",
      "metadata": {
        "id": "d6005566-2f02-423c-a8be-491a60bbe73e"
      },
      "outputs": [],
      "source": [
        "# A continuación definimos las funciones que se emplearán para la realización de este trabajo:\n",
        "\n",
        "# c)\n",
        "# 1. media(): toma una matriz y devuelve un vector con la media de cada columna de la matriz.\n",
        "def media(matriz):\n",
        "  n, c= matriz.shape\n",
        "  sumas= [0]*c\n",
        "  for i in range(n):\n",
        "    for j in range(c):\n",
        "      sumas[j]+= matriz[i][j]\n",
        "  media_array = [element/ n for element in sumas]\n",
        "  return media_array\n",
        "\n",
        "\n",
        "# 2. desvio(): toma una matriz y devuelve un vector con el desvío de cada columna de la matriz.\n",
        "def desvio(matriz):\n",
        "  n, c= matriz.shape\n",
        "  m= media(matriz)\n",
        "  sumasCuad= [0]*c\n",
        "  for i in range(n):\n",
        "    for j in range(c):\n",
        "      sumasCuad[j]+=(matriz[i][j]-m[j])**2\n",
        "  desvio_array = [np.sqrt(element/ n) for element in sumasCuad]\n",
        "  #desvio_array= [np.sqrt(suma) for suma in desvio_array]\n",
        "  return desvio_array\n",
        "\n",
        "# 3. distancia(): calcula la distancia euclídea entre dos vectores.\n",
        "def distancia(x1, x2):\n",
        "  sumaComponentes= 0\n",
        "  for i in range(len(x1)):\n",
        "    sumaComponentes+= (x1[i]-x2[i])**2\n",
        "  return np.sqrt(sumaComponentes)\n",
        "\n",
        "\n",
        "# FUNCIONES PRINCIPALES\n",
        "\n",
        "# centralizar(): toma una matriz, resta a cada observación la media y divide por el desvío correspondiente\n",
        "# a cada columna por separado. Se obtiene así la matriz centralizada.\n",
        "\n",
        "def centralizar(data_array):\n",
        "    n, c = data_array.shape  # n= cantidad categorias\n",
        "\n",
        "    m= media(data_array)\n",
        "    s= desvio(data_array)\n",
        "\n",
        "    X= np.copy(data_array)\n",
        "\n",
        "    for i in range(n):\n",
        "        X[i] = X[i]- m\n",
        "\n",
        "    for i in range(n):\n",
        "        X[i] = X[i]/s\n",
        "\n",
        "    print(type(X))\n",
        "\n",
        "    return X, m , s\n",
        "\n",
        "# centralizar_test(): similar a la anterior pero en lugar de calcular la media y el desvío de la matriz, se obtiene\n",
        "# estos por pasaje de parámetros. Se la define de este modo con el objetivo de poder centralizar los datos de test\n",
        "# correctamente con la media y desvío de los datos de entrenamiento.\n",
        "\n",
        "def centralizar_test(data_array, m, s):\n",
        "    n, c = data_array.shape  # n= cantidad categorias\n",
        "\n",
        "    X= np.copy(data_array)\n",
        "\n",
        "    for i in range(n):\n",
        "        X[i] = X[i]- m\n",
        "\n",
        "    for i in range(n):\n",
        "        X[i] = X[i]/s\n",
        "\n",
        "    return X\n",
        "\n",
        "# e)\n",
        "\n",
        "# e)\n",
        "# potencia(): Retorna el atovalor de mas alto valor con su respectivo autovector\n",
        "# Parámetros:\n",
        "#        1. matriz: matriz centralizada.\n",
        "#        2. v0: vector inicial para la iteración.\n",
        "#        3. epsilon: error minimo entre el vector el vector solución y el aproximado.\n",
        "\n",
        "def potencia(matriz, v0=[], epsilon=1e-8, verbose=False):\n",
        "    if matriz.shape[0] != len(v0):\n",
        "        print(\"dim(v0) != dim(A)\")\n",
        "        return 0\n",
        "    if len(v0) == 0: v0 = 2 * np.random.rand(matriz.shape[0],1) - 1\n",
        "    r_k =v0.transpose()@matriz@v0/(v0.transpose()@v0) # cociente de raleigh\n",
        "    v_k = matriz@v0/np.linalg.norm(matriz@v0,2)\n",
        "    delta = np.abs(v_k.transpose()@matriz@v_k/(v_k.transpose()@v_k) - r_k)\n",
        "\n",
        "    while delta >= epsilon:\n",
        "        v_k = matriz@v_k\n",
        "        v_k/=np.linalg.norm(v_k,2)\n",
        "        r_temp = v_k.transpose()@matriz@v_k/(v_k.transpose()@v_k)\n",
        "        delta = np.abs(r_temp-r_k) # otra forma|| v_(k+1) - v_k ||_2\n",
        "        r_k = r_temp\n",
        "    r_k = r_k[0][0]\n",
        "    #v_k = v_k.transpose()[0]\n",
        "    if verbose :\n",
        "        print(\"autovalor : \", r_k)\n",
        "        print(\"autovector : \\n\", v_k)\n",
        "    return r_k, v_k\n",
        "\n",
        "# f)\n",
        "\n",
        "def potenciaTrasladada(matriz, v0=[], cant_componentes=87 , precision=1e-6, verbose=False):\n",
        "    n = matriz.dtype\n",
        "    if matriz.dtype != 'float64' : n = np.float64\n",
        "    matriz_c = matriz.astype(n)\n",
        "    n = matriz.shape[0]\n",
        "    if cant_componentes > n: cant_componentes = n\n",
        "    if len(v0) == 0: v0 = 2 * np.random.rand(n,1) - 1\n",
        "    d_aval =[]\n",
        "    v_avec = []\n",
        "    while cant_componentes > 0:\n",
        "        a_val, a_vec = potencia(matriz_c, v0, epsilon=precision, verbose=False)\n",
        "        #print(\"autovalor : \", a_val)\n",
        "        matriz_c-= a_val*a_vec@a_vec.transpose()\n",
        "        d_aval.append(a_val)\n",
        "        v_avec.append(a_vec.transpose()[0])\n",
        "        cant_componentes-=1\n",
        "    v_avec = np.column_stack(v_avec)\n",
        "\n",
        "    return d_aval, v_avec\n",
        "\n",
        "\n",
        "# g)\n",
        "\n",
        "# clas_KNN(): toma un vector de variables a partir de las cuales se quiere predecir\n",
        "# una variable categórica distinta (en este caso, el tipo de vino).\n",
        "# Parámetros:\n",
        "#        1. x_test_i: vector de variables a predecir.\n",
        "#        2. x_train_proy: matriz que contiene el conjunto de datos de entrenamiento proyectado\n",
        "#        3. y_train: conjunto de clasificaciones correspondientes a los datos de entrenamiento\n",
        "#        4. Ave: autovectores asociados a la matriz de covarianza de los datos de entrenamiento.\n",
        "#        5. m: vector con la media de los datos de entrenamiento por columna.\n",
        "#        6. s: vector con el desvío de los datos de entrenamiento por columna.\n",
        "#        7. n_comp: cantidad de componentes principales que se quieren utilizar para realizar la\n",
        "#        predicción\n",
        "#        8. k: cantidad de 'vecinos' más cercanos que se quieren considerar.\n",
        "\n",
        "def clas_KNN(x_test_i, x_train_proy, y_train, AVe, m, s, n_comp, k):\n",
        "\n",
        "    # Centro los datos del test con la media y desvío de los datos de entrenamiento:\n",
        "    x_test_cen_i = x_test_i - m\n",
        "    x_test_cen_i= x_test_cen_i / s\n",
        "\n",
        "    # Proyecto los datos según la cantidad de componentes que tomo:\n",
        "    #x_train_proy= x_train_cen @ AVe[:,0:n_comp] # CK\n",
        "    x_test_proy_i= x_test_cen_i @ AVe[:,0:n_comp]\n",
        "\n",
        "    tuplas_norma_iD = []\n",
        "\n",
        "    # Calculo las distancias euclídeas de x_train_proy respecto a x_test_proy\n",
        "    for i in range(len(x_train_proy)):\n",
        "      normaI= distancia(x_train_proy[i], x_test_proy_i)\n",
        "      tuplai= (i, normaI)\n",
        "      tuplas_norma_iD.append(tuplai)\n",
        "\n",
        "    # Ordeno la lista de tuplas de manera creciente según la norma\n",
        "    tuplas_ordenadas = sorted(tuplas_norma_iD, key=lambda x: x[1])\n",
        "\n",
        "    clasificacionesDeLosK = []\n",
        "    for i in range(k):\n",
        "        id = tuplas_ordenadas[i][0]\n",
        "        clasificacionesDeLosK.append(y_train[id])\n",
        "\n",
        "    cantidades= {}\n",
        "    cantidades[1]= clasificacionesDeLosK.count(1)\n",
        "    cantidades[2]= clasificacionesDeLosK.count(2)\n",
        "    cantidades[3]= clasificacionesDeLosK.count(3)\n",
        "\n",
        "    max_key = max(cantidades, key=cantidades.get)\n",
        "\n",
        "    return (max_key)\n"
      ]
    },
    {
      "cell_type": "code",
      "execution_count": null,
      "id": "uMfnEQ7pOjd_",
      "metadata": {
        "id": "uMfnEQ7pOjd_"
      },
      "outputs": [],
      "source": [
        "\n",
        "#########################\n",
        "#****visualización*****#\n",
        "########################\n",
        "\n",
        "# A continuación se definen las funciones que se emplearán para el ejercicio n° 2 del trabajo práctico.\n",
        "\n",
        "# Creamos tabla de varianzas según modelos\n",
        "def crearTabla (D, labels=['Modelo','Componente','Varianza explicada','Porcentaje','Acumulado'], index = 2, modelos=0):\n",
        "    modelos+=1\n",
        "    if modelos > len(D) : modelos= len(D)+1\n",
        "    data =[]\n",
        "    for modelo in range(1,modelos):\n",
        "        varianza=0\n",
        "        acumulada=0\n",
        "        for comp in range(modelo):\n",
        "            varianza=D[comp]/sum(D)\n",
        "            acumulada+=varianza\n",
        "            data.append([modelo,comp+1,varianza,varianza*100,acumulada])\n",
        "    # definimos df y seteamos indices\n",
        "    df = pd.DataFrame(data=data, columns=labels)\n",
        "    df = df.set_index(labels[:index])\n",
        "    print(df)\n",
        "    return df\n",
        "\n",
        "def matriz_confusión(predicciones, reales):\n",
        "  matriz= [[0,0,0],[0,0,0],[0,0,0]]\n",
        "  for i in range(3):  ## Para cada fila\n",
        "    for j in range(3):  ## Por cada columna\n",
        "        Aij=0\n",
        "        for k in range(len(predicciones)):\n",
        "          Aij += 1 if (predicciones[k] == (j+1) and y_test[k]==(i+1))  else 0\n",
        "        matriz[i][j]= Aij\n",
        "\n",
        "  matriz_confusion= pd.DataFrame(matriz, columns=['Predicción 1', 'Predicción 2', 'Predicción 3'], index=['Real 1', 'Real 2', 'Real 3'])\n",
        "  print(matriz_confusion)\n",
        "\n",
        "def plotVector(dict_v, rotulos, start=0):\n",
        "    n = np.arange(start,len(dict_v['vector']))\n",
        "    plt.plot(n,dict_v['vector'][start:], label=dict_v['leyenda'])\n",
        "    plt.xlabel(rotulos['eje x'])\n",
        "    plt.ylabel(rotulos['eje y'])\n",
        "    plt.title(rotulos['titulo'])\n",
        "    plt.legend()\n",
        "    plt.show()\n",
        "    plt.close()\n",
        "\n",
        "def scatter1D_cat(x_train_cen, x_test, y_train, y_pred, AVe, m_train, s_train):\n",
        "\n",
        "  # Centralizo datos de testeo\n",
        "  x_test_cen = centralizar_test(x_test, m_train, s_train)\n",
        "\n",
        "  # Proyecto x_train y x_test según número de componentes\n",
        "  x_train_proy= x_train_cen @ AVe[:,0:1]\n",
        "  x_test_proy= x_test_cen @ AVe[:,0:1]\n",
        "\n",
        "  # Creo el gráfico\n",
        "  colors = {1: 'lightsalmon', 2: 'red', 3: 'darkred'}\n",
        "  plt.figure(figsize=(20, 5))\n",
        "  plt.scatter(x_train_proy, np.zeros_like(x_train_proy), c=[colors[categ] for categ in y_train], label= \"1: Rosado, 2: Amarillo, 3: Rojo oscuro\")\n",
        "  plt.legend()\n",
        "  plt.title('Gráfico con n° componentes = 1', loc='right', pad=20)\n",
        "\n",
        "\n",
        "  # Añado puntos de los test con el color según la predicción\n",
        "  plt.scatter(x_test_proy, np.zeros_like(x_test_proy), c=[colors[categ] for categ in y_pred], marker='x', s=100)\n",
        "\n",
        "  plt.yticks([])\n",
        "  plt.xlim(-5, 5)\n",
        "  plt.show()\n",
        "\n",
        "\n",
        "def scatter2D_cat(x_train_cen, x_test, y_train, y_pred, AVe, labels, m_train, s_train):\n",
        "\n",
        "    # Centralizo datos de test:\n",
        "    x_test_cen = centralizar_test(x_test, m_train, s_train)\n",
        "\n",
        "\n",
        "    # Proyecto x_train y x_test según número de componentes\n",
        "    x_train_proy= x_train_cen @ AVe[:,0:2]\n",
        "    x_test_proy= x_test_cen @ AVe[:,0:2]\n",
        "\n",
        "    # Obtengo ejes x e y\n",
        "    u_train= x_train_proy[:,0]\n",
        "    v_train= x_train_proy[:,1]\n",
        "\n",
        "    u_test= x_test_proy[:,0]\n",
        "    v_test= x_test_proy[:,1]\n",
        "\n",
        "    colors = {1: 'lightsalmon', 2: 'red', 3: 'darkred'}\n",
        "\n",
        "    sns.scatterplot(x = u_train , y = v_train , c = [colors[categ] for categ in y_train]).set(title=labels['titulo'])\n",
        "    sns.scatterplot(x = u_test , y = v_test , c = [colors[categ] for categ in y_pred], marker='x')\n",
        "    plt.xlabel(labels['u'])\n",
        "    plt.ylabel(labels['v'])\n",
        "    #plt.xlim(-5, 5)\n",
        "    #plt.ylim(-4, 4)\n",
        "    plt.show()\n",
        "    plt.close()\n",
        "\n",
        "def scatter3D_cat(data_train,data_test, cat, cat_t, AVe, m_train, s_train, labels, fig_size=6, interactive=True):\n",
        "    # Set data\n",
        "    x = data_train@AVe[:,:3]\n",
        "    x_t = centralizar_test(data_array=data_test, m=m_train, s=s_train)\n",
        "    x_t = x_t@AVe[:,:3]\n",
        "    u = x[:,0].T\n",
        "    v = x[:,1].T\n",
        "    w = x[:,2].T\n",
        "    u_t = x_t[:,0].T\n",
        "    v_t = x_t[:,1].T\n",
        "    w_t = x_t[:,2].T\n",
        "\n",
        "    # set colors\n",
        "    colors = {1: 'lightsalmon', 2: 'red', 3: 'darkred'}\n",
        "    colors_new = [colors[categ] for categ in cat_t]\n",
        "    if interactive :\n",
        "        # Create traces\n",
        "        trace1 = go.Scatter3d(x=u, y=v, z=w, mode='markers', name='Train', marker=dict(size=6, color=[colors[categ] for categ in cat], colorscale='Viridis'))\n",
        "        trace2 = go.Scatter3d(x=u_t, y=v_t, z=w_t, mode='markers', name='Test', marker=dict(size=6, color=colors_new, symbol='cross'))\n",
        "\n",
        "        # Create 3D interactive fig\n",
        "        fig = go.Figure(data=[trace1, trace2])\n",
        "\n",
        "        # Set design\n",
        "        fig.update_layout(title=labels['titulo'], scene=dict(xaxis_title=labels['u'], yaxis_title=labels['v'], zaxis_title=labels['w']))\n",
        "\n",
        "        # Show\n",
        "        fig.show()\n",
        "    else:\n",
        "        # axes instance\n",
        "        fig = plt.figure(figsize=(fig_size,fig_size))\n",
        "        ax = Axes3D(fig, auto_add_to_figure=False)\n",
        "        fig.add_axes(ax)\n",
        "\n",
        "        # get colormap from seaborn\n",
        "        cmap = sns.color_palette(\"viridis\", as_cmap=True)\n",
        "\n",
        "        # plot\n",
        "        trace1 = ax.scatter(u, v, w, s=40, c=cat, marker='o', cmap=cmap, alpha=1)\n",
        "        trace2 = ax.scatter(u_t, v_t, w_t, c=colors_new, marker='X', s=50)\n",
        "        ax.set_title(labels['titulo'])\n",
        "        ax.set_xlabel(labels['u'])\n",
        "        ax.set_ylabel(labels['v'])\n",
        "        ax.set_zlabel(labels['w'])\n",
        "\n",
        "        plt.show()\n",
        "        #plt.legend(*trace1.legend_elements(), bbox_to_anchor=(1.05, 1), loc=2)\n",
        "        plt.close()\n",
        "\n",
        "\n",
        "\n",
        "# Mide la tasa de aciertos y me re categoriza el vector de predicciones para poder graficar\n",
        "def tasa_aciertos(predicciones, reales, n_modelo, cat_de_acierto):\n",
        "    n_tests= len(predicciones)\n",
        "    exitos=0\n",
        "    for i in range(n_tests):\n",
        "        #exitos += 1 if predicciones[i] == reales[i] else 0\n",
        "        if predicciones[i] == reales[i]:\n",
        "            exitos+=1\n",
        "            predicciones[i]= cat_de_acierto\n",
        "        else:\n",
        "            predicciones[i] = 0\n",
        "\n",
        "    print(\" \\nProporción de aciertos (Modelo {}):\". format(n_modelo))\n",
        "    print(exitos/n_tests)\n",
        "    return exitos\n",
        "\n",
        "# Evalua un modelo en particular y mide su taza de aciertos con una función aciertos\n",
        "def performance(dict_f, x, x_test, y_train, y_test, aVec, med ,s, modelos=0):\n",
        "    modelos+=1\n",
        "    if modelos > aVec.shape[1] : modelos= aVec.shape[1]+1\n",
        "    metricas ={}\n",
        "    res = []\n",
        "    n = x_test.shape[0]\n",
        "    for j in range(1,modelos): # rp\n",
        "        Tr = x@aVec[:,:j]\n",
        "        y_pred = np.zeros(n) # obtenemos el vector de predicciones por modelo\n",
        "        for i in range (n):\n",
        "            y_p = dict_f['f'](x_test_i=x_test[i], x_train_proy=Tr, y_train=y_train, AVe=aVec, m=med, s=s, n_comp=j, k=dict_f['param_f'])\n",
        "            y_pred[i] = y_p\n",
        "        exitos = dict_f['aciertos'](y_pred, y_test, j, dict_f['cat_acierto']) # exitos <= n\n",
        "        metricas[j] = (exitos, y_pred)\n",
        "        res.append(exitos)\n",
        "\n",
        "    return metricas"
      ]
    },
    {
      "cell_type": "markdown",
      "id": "4VY6efz0XJmt",
      "metadata": {
        "id": "4VY6efz0XJmt"
      },
      "source": [
        "#Ejercicio 2.\n",
        "\n",
        "Experimentos y Graficación. Para estudiar la potencialidad del método de PCA, debemos poder\n",
        "comparar valores reales con los predichos con el modelo propuesto. Para ello usualmente se dividen los datos con los que se cuenta en dos subconjuntos. El primero que llamamos datos de 'entrenamiento', usados para ajustar nuestro modelo, y el segundo con datos de 'testeo', datos que usaremos para testear. Hay distintos criterios para seleccionar estos conjuntos pero algo fundamental a tener en cuenta es la cantidad de muestras que tendría cada conjunto a partir del original, una sugerencia es usar 80% para el conjunto de entrenamiento y el 20% restante para testear.\n",
        "\n",
        "(a) Para evaluar el sistema de recomendación del ejercicio anterior, dividir el conjunto de datos en dos, para entrenamiento y para testeo. Ejecutar el modelo realizado para el conjunto de\n",
        "entrenamiento utilizando de 1 a 4 componentes principales. Es decir que se obtendrían para predecir 4 modelos, cada uno de los cuales correspondería a tomar de 1 a 4 componentes principales. Construir una tabla donde se muestre el número de componentes principales de cada modelo y los valores de la varianza explicada[2], la varianza explicada relativa y la acumulada de cada componente, es decir:\n",
        "\n",
        "<img src= \"/content/cuadro.PNG\" />\n",
        "\n",
        "(b) Realizar graficos que puedan mostrar los resultados obtenidos para los casos de los modelos con 1, 2 y 3 componentes principales. De acuerdo a los valores encontrados en la tabla del item anterior, cuál de los modelos sugiere utilizar para predecir el segmento al que pertenece un vino. Tener en cuenta que el comercio cuenta con una gran base de datos de clientes y se quiere poder hacer una recomendación\n",
        "rápidamente.\n",
        "\n",
        "\n",
        "(c) Realizar la matriz de confusión con los experimentos realizados en el ítem (a). ¿A qué conclusiones se puede llegar?\n"
      ]
    },
    {
      "cell_type": "markdown",
      "id": "gdgQa2B2QJK0",
      "metadata": {
        "id": "gdgQa2B2QJK0"
      },
      "source": [
        "A continuación, seguimos los pasos propuestos para implementar el sistema de recomendación de vinos:"
      ]
    },
    {
      "cell_type": "code",
      "execution_count": null,
      "id": "vUkf6m0lPe2Z",
      "metadata": {
        "colab": {
          "base_uri": "https://localhost:8080/"
        },
        "id": "vUkf6m0lPe2Z",
        "outputId": "74c40c18-d6d1-43d5-baaa-897de0becbfb"
      },
      "outputs": [
        {
          "output_type": "stream",
          "name": "stdout",
          "text": [
            "<class 'numpy.ndarray'>\n"
          ]
        }
      ],
      "source": [
        "#a) Obtener los datos\n",
        "caracteristicas= [\"Class\", \"Alcohol\", \"Malic acid\", \"Ash\", \"Alcalinity of ash\", \"Magnesium\", \"Total phenols\", \"Flavonoids\", \"Nonflavonoid phenols\", \"Proanthocyanics\", \"Color intensity\", \"Hue\", \"OD280/OD315 of diluted wines\", \"Proline\"]\n",
        "vinos = pd.read_csv('wine.data', names= caracteristicas)\n",
        "\n",
        "#b) Separar en X e Y\n",
        "Y = vinos[\"Class\"]\n",
        "vinos_X = vinos[[\"Alcohol\", \"Malic acid\", \"Ash\", \"Alcalinity of ash\", \"Magnesium\", \"Total phenols\", \"Flavonoids\", \"Nonflavonoid phenols\", \"Proanthocyanics\", \"Color intensity\", \"Hue\", \"OD280/OD315 of diluted wines\", \"Proline\"]]\n",
        "\n",
        "# (Pasamos a arrays)\n",
        "vinos_array = vinos_X.values\n",
        "\n",
        "# Dividimos los datos en set de entrenamiento y de testeo\n",
        "\n",
        "X_train, X_test, y_train, y_test = train_test_split(vinos_X, Y, test_size=0.2)\n",
        "\n",
        "X_train = X_train.values\n",
        "X_test = X_test.values\n",
        "\n",
        "y_train = y_train.values\n",
        "y_test = y_test.values\n",
        "\n",
        "#c) Centralizar datos\n",
        "\n",
        "# Centralizo los datos de entrenamiento\n",
        "X_train_cen, m_train, s_train = centralizar(X_train)\n",
        "\n",
        "n, c = X_train_cen.shape\n",
        "\n",
        "# Armar matriz de covarianza de los datos de entrenamiento\n",
        "X_train_cov= (X_train_cen.T @ X_train_cen)/n\n",
        "\n",
        "# Hallar autovectores de la matriz de covarianza, ordenados de mayor a menor según el autovalor asociado.\n",
        "AVa, V = potenciaTrasladada(X_train_cov)    ### VER COMO USAR calcularCPA\n",
        "\n",
        "# Con los datos ya listos, ejecutamos el modelo para cantidad de componentes 1 a 4:\n",
        "\n",
        "# Proyectamos los datos de entrenamiento según el número de componentes principales a utilizar:\n",
        "\n",
        "X_train_proy1 = X_train_cen @ V[:,0:1]\n",
        "\n",
        "predicciones_1= []\n",
        "for test in X_test:\n",
        "  predicciones_1.append(clas_KNN(test, X_train_proy1, y_train, V, m_train, s_train, 1, 7))\n",
        "\n",
        "X_train_proy2 = X_train_cen @ V[:,0:2]\n",
        "\n",
        "predicciones_2= []\n",
        "for test in X_test:\n",
        "  predicciones_2.append(clas_KNN(test, X_train_proy2, y_train, V, m_train, s_train, 2, 7))\n",
        "\n",
        "X_train_proy3 = X_train_cen @ V[:,0:3]\n",
        "\n",
        "predicciones_3= []\n",
        "for test in X_test:\n",
        "  predicciones_3.append(clas_KNN(test, X_train_proy3, y_train, V, m_train, s_train, 3, 7))\n",
        "\n",
        "X_train_proy4 = X_train_cen @ V[:,0:4]\n",
        "\n",
        "predicciones_4= []\n",
        "for test in X_test:\n",
        "  predicciones_4.append(clas_KNN(test, X_train_proy4, y_train, V, m_train, s_train, 4, 7))\n",
        "\n",
        "\n"
      ]
    },
    {
      "cell_type": "markdown",
      "source": [
        "Ejecutando la siguiente celda se obtiene la tabla con los datos de varianza de cada modelo:"
      ],
      "metadata": {
        "id": "27pvf1tiHzbm"
      },
      "id": "27pvf1tiHzbm"
    },
    {
      "cell_type": "code",
      "execution_count": null,
      "metadata": {
        "scrolled": true,
        "tags": [],
        "outputId": "564bf715-e9fa-42a5-992b-9990696e50ec",
        "colab": {
          "base_uri": "https://localhost:8080/"
        },
        "id": "VvUdBfrDHzbu"
      },
      "outputs": [
        {
          "output_type": "stream",
          "name": "stdout",
          "text": [
            "                   Varianza explicada  Porcentaje  Acumulado\n",
            "Modelo Componente                                           \n",
            "1      1                     0.372659   37.265889   0.372659\n",
            "2      1                     0.372659   37.265889   0.372659\n",
            "       2                     0.191203   19.120255   0.563861\n",
            "3      1                     0.372659   37.265889   0.372659\n",
            "       2                     0.191203   19.120255   0.563861\n",
            "       3                     0.111980   11.198017   0.675842\n",
            "4      1                     0.372659   37.265889   0.372659\n",
            "       2                     0.191203   19.120255   0.563861\n",
            "       3                     0.111980   11.198017   0.675842\n",
            "       4                     0.067967    6.796711   0.743809\n"
          ]
        }
      ],
      "source": [
        "tabla = crearTabla(AVa, modelos = 4)"
      ],
      "id": "VvUdBfrDHzbu"
    },
    {
      "cell_type": "code",
      "execution_count": null,
      "metadata": {
        "id": "528415ae-bf08-4b95-bd1c-4f7a6239d42e",
        "outputId": "3386bb94-7d4e-4ad6-da00-301d86996125",
        "colab": {
          "base_uri": "https://localhost:8080/",
          "height": 475
        }
      },
      "outputs": [
        {
          "output_type": "display_data",
          "data": {
            "text/plain": [
              "<Figure size 640x480 with 1 Axes>"
            ],
            "image/png": "[encoded data removed]"
          },
          "metadata": {}
        }
      ],
      "source": [
        "autovalores = {'vector' : AVa,\n",
        "                'leyenda' : 'variabilidad'}\n",
        "rotulos = {'titulo' : 'Componentes principales',\n",
        "           'eje x' : '$\\lambda_i$',\n",
        "           'eje y' : 'valor númerico'}\n",
        "plotVector(dict_v=autovalores, rotulos=rotulos)"
      ],
      "id": "528415ae-bf08-4b95-bd1c-4f7a6239d42e"
    },
    {
      "cell_type": "markdown",
      "metadata": {
        "id": "zMc1-YNJI1W2"
      },
      "source": [
        "## Gráficos\n",
        "vamos a graficar los puntos proyectados sobre el subespacio generado por $W_{PCA}$, todos los graficos comparten las siguientes caracteristicas:  \n",
        "* los puntos de entrenamiento $(X_{train},Y_{train})$ están representados por puntos circulares $(\\color{blue}{\\bullet})$, divididos por sus respectivas categorías de vinos\n",
        "* los puntos de test $(X_{test},Y_{test})$están representados por cruces $(\\times)$\n",
        "\n",
        "Los colores de cada símbolo corresponden a su clasificación real o predicha según sea punto o cruz."
      ],
      "id": "zMc1-YNJI1W2"
    },
    {
      "cell_type": "markdown",
      "metadata": {
        "id": "3cabd488-e53b-427d-b89b-568f2cd60def"
      },
      "source": [
        "### Modelo 1"
      ],
      "id": "3cabd488-e53b-427d-b89b-568f2cd60def"
    },
    {
      "cell_type": "code",
      "execution_count": null,
      "metadata": {
        "colab": {
          "base_uri": "https://localhost:8080/",
          "height": 402
        },
        "id": "0491fc5b-0d82-4d0a-8750-bb5f4027266f",
        "outputId": "a9bce07a-b3a0-4dbb-9643-c513ecbbbb56"
      },
      "outputs": [
        {
          "output_type": "display_data",
          "data": {
            "text/plain": [
              "<Figure size 2000x500 with 1 Axes>"
            ],
            "image/png": "[encoded data removed]"
          },
          "metadata": {}
        }
      ],
      "source": [
        "scatter1D_cat(X_train_cen, X_test, y_train, predicciones_1, V, m_train, s_train)"
      ],
      "id": "0491fc5b-0d82-4d0a-8750-bb5f4027266f"
    },
    {
      "cell_type": "markdown",
      "metadata": {
        "id": "943e3d06-adc7-450b-94a5-d5d2dc7d0bfa"
      },
      "source": [
        "### Modelo 2"
      ],
      "id": "943e3d06-adc7-450b-94a5-d5d2dc7d0bfa"
    },
    {
      "cell_type": "code",
      "execution_count": null,
      "metadata": {
        "colab": {
          "base_uri": "https://localhost:8080/",
          "height": 472
        },
        "id": "d5d2af14-b191-4dad-9a22-63782938d0c1",
        "outputId": "1cb0ec8c-7241-4591-a33a-6350c6434147"
      },
      "outputs": [
        {
          "output_type": "display_data",
          "data": {
            "text/plain": [
              "<Figure size 640x480 with 1 Axes>"
            ],
            "image/png": "[encoded data removed]"
          },
          "metadata": {}
        }
      ],
      "source": [
        "rotulos = {'u' : 'componente 1', 'v' : 'componente 2', 'titulo': 'Gráfico con n° componentes = 2'}\n",
        "scatter2D_cat(X_train_cen, X_test, y_train, predicciones_2, V, labels=rotulos, m_train=m_train, s_train=s_train)"
      ],
      "id": "d5d2af14-b191-4dad-9a22-63782938d0c1"
    },
    {
      "cell_type": "markdown",
      "metadata": {
        "id": "e48c48e0-41ae-4eb6-b6aa-592cd02b392a"
      },
      "source": [
        "### Modelo 3"
      ],
      "id": "e48c48e0-41ae-4eb6-b6aa-592cd02b392a"
    },
    {
      "cell_type": "code",
      "execution_count": null,
      "metadata": {
        "id": "e974c2da-69e9-4847-bd02-042c0d61ad45",
        "colab": {
          "base_uri": "https://localhost:8080/",
          "height": 542
        },
        "outputId": "699d057b-7789-4c99-a728-8ab55bbdf9f4"
      },
      "outputs": [
        {
          "output_type": "display_data",
          "data": {
            "text/html": [
              "<html>\n",
              "<head><meta charset=\"utf-8\" /></head>\n",
              "<body>\n",
              "    <div>            <script src=\"https://cdnjs.cloudflare.com/ajax/libs/mathjax/2.7.5/MathJax.js?config=TeX-AMS-MML_SVG\"></script><script type=\"text/javascript\">if (window.MathJax && window.MathJax.Hub && window.MathJax.Hub.Config) {window.MathJax.Hub.Config({SVG: {font: \"STIX-Web\"}});}</script>                <script type=\"text/javascript\">window.PlotlyConfig = {MathJaxConfig: 'local'};</script>\n",
              "        <script charset=\"utf-8\" src=\"https://cdn.plot.ly/plotly-2.24.1.min.js\"></script>                <div id=\"274902ff-0dc8-483f-9d91-3094ff0d8980\" class=\"plotly-graph-div\" style=\"height:525px; width:100%;\"></div>            <script type=\"text/javascript\">                                    window.PLOTLYENV=window.PLOTLYENV || {};                                    if (document.getElementById(\"274902ff-0dc8-483f-9d91-3094ff0d8980\")) {                    Plotly.newPlot(                        \"274902ff-0dc8-483f-9d91-3094ff0d8980\",                        [{\"marker\":{\"color\":[\"darkred\",\"lightsalmon\",\"darkred\",\"lightsalmon\",\"red\",\"red\",\"lightsalmon\",\"lightsalmon\",\"darkred\",\"red\",\"red\",\"lightsalmon\",\"lightsalmon\",\"darkred\",\"red\",\"lightsalmon\",\"red\",\"red\",\"darkred\",\"lightsalmon\",\"darkred\",\"darkred\",\"darkred\",\"darkred\",\"red\",\"red\",\"red\",\"lightsalmon\",\"red\",\"red\",\"darkred\",\"darkred\",\"lightsalmon\",\"lightsalmon\",\"darkred\",\"lightsalmon\",\"darkred\",\"red\",\"red\",\"red\",\"lightsalmon\",\"red\",\"red\",\"darkred\",\"red\",\"darkred\",\"darkred\",\"darkred\",\"red\",\"darkred\",\"darkred\",\"lightsalmon\",\"darkred\",\"lightsalmon\",\"darkred\",\"lightsalmon\",\"lightsalmon\",\"red\",\"red\",\"lightsalmon\",\"lightsalmon\",\"red\",\"red\",\"red\",\"red\",\"lightsalmon\",\"red\",\"darkred\",\"lightsalmon\",\"red\",\"lightsalmon\",\"lightsalmon\",\"red\",\"darkred\",\"lightsalmon\",\"red\",\"lightsalmon\",\"red\",\"lightsalmon\",\"red\",\"lightsalmon\",\"red\",\"darkred\",\"red\",\"red\",\"red\",\"red\",\"red\",\"red\",\"lightsalmon\",\"red\",\"lightsalmon\",\"darkred\",\"red\",\"red\",\"red\",\"lightsalmon\",\"darkred\",\"lightsalmon\",\"red\",\"red\",\"lightsalmon\",\"red\",\"lightsalmon\",\"red\",\"lightsalmon\",\"darkred\",\"darkred\",\"darkred\",\"lightsalmon\",\"darkred\",\"lightsalmon\",\"darkred\",\"red\",\"lightsalmon\",\"red\",\"lightsalmon\",\"darkred\",\"darkred\",\"darkred\",\"darkred\",\"red\",\"lightsalmon\",\"red\",\"red\",\"red\",\"lightsalmon\",\"darkred\",\"red\",\"red\",\"red\",\"lightsalmon\",\"lightsalmon\",\"red\",\"lightsalmon\",\"lightsalmon\",\"red\",\"darkred\",\"red\",\"lightsalmon\",\"darkred\",\"darkred\"],\"colorscale\":[[0.0,\"#440154\"],[0.1111111111111111,\"#482878\"],[0.2222222222222222,\"#3e4989\"],[0.3333333333333333,\"#31688e\"],[0.4444444444444444,\"#26828e\"],[0.5555555555555556,\"#1f9e89\"],[0.6666666666666666,\"#35b779\"],[0.7777777777777778,\"#6ece58\"],[0.8888888888888888,\"#b5de2b\"],[1.0,\"#fde725\"]],\"size\":6},\"mode\":\"markers\",\"name\":\"Train\",\"x\":[2.725023812568602,-3.2075885239905086,3.127981685846705,-2.5248520658654856,1.1613326587925241,0.3658494951762065,-1.2757504174428091,-3.1294313376243634,2.350952535448362,1.6440433538176358,0.29922047310406363,-1.845171019288542,-1.1023677546916464,2.366973878011592,-1.747818678978002,-1.474858902795915,0.36380430560882876,0.5021829306865425,2.290083819748959,-2.4315174664246983,3.1384194102729666,3.707768593399656,3.418084634872288,3.098895588256559,0.6491802349884875,1.4261683032985104,-0.5262547340279855,-1.958002690509948,-0.23912642166280856,-0.9217845590948451,2.1908639265799805,2.3138707735459434,-2.5940222662297536,-2.1007929535599246,2.0595848304455733,-2.7545565327187505,2.3865651628585822,-2.30990196184762,-0.9523185848873047,-1.1724445022551544,-0.5308856151395518,-2.342062264189941,0.6475767158676863,3.858401157125452,-2.2753086309411468,2.889198750773661,3.003706153430796,3.5992040311960434,2.372729889591492,2.7018103812188636,2.7829892185478267,-1.685972000871812,2.8202781387416938,-3.705741842475567,2.4272212866611627,-1.782255071622954,-3.4714462181966628,0.016910829498530545,-0.30180683847799455,-3.3782515708128162,-1.7545232627349308,0.7554459497318476,2.5084104337136535,-1.13649007144983,-1.737976546149217,-3.077268626880199,-0.12688480711236536,3.052985092624223,-1.9046454549045049,0.29829535491555975,-2.730281948663066,-2.605861994496897,-2.8005270718612754,2.138299696534329,-2.2719709599404747,1.856537631914558,-1.178259477397217,-1.1404717624692586,-2.287288568676077,-0.9050500455731058,-2.4752016189390766,-1.0049531027578218,3.380426694442277,1.6866124931178705,0.14183220790024592,-1.1532355552351912,0.7970677040535328,0.3685264846367645,1.2254680037989139,-2.3148565728164434,1.4416684781010134,-3.48710904136758,2.604965936804071,0.38129231545654335,-1.9913571656636113,0.0659416951703256,-2.168223449450703,3.6378429629022073,-1.1150242806723083,1.529941716197242,0.40742685288184205,-2.2390405011489825,0.35172661867340155,-1.4455675229608176,-1.4966576260104985,-2.6487193109601193,2.8444826406297143,3.877727776081102,1.7039933997964283,-1.1912611462512943,2.9457604495691934,-0.70289679758189,3.2919877777698887,-0.5226428999876386,-2.008810613864997,-0.9703168580014119,-3.4923375386850712,2.349138308010697,4.303792019110005,2.5550998281289665,1.1786455398033284,0.9772836603398146,-2.228784983614828,-1.6272455510566917,-0.7178649520025235,1.4562667465148742,-2.1006892367248633,2.2220836940760935,-0.08920869408049713,-2.760919180625485,0.42509821758241506,-2.1840057223253573,-2.6810416554748526,-0.998270697481547,-2.1992594345186536,-2.763208892865957,-2.1704566928570728,2.269422544599675,-0.09762529399622448,-1.1457223700181958,2.3101779613718616,3.543755137994419],\"y\":[0.2271292001498777,0.8907754479546616,-0.3503952960099943,1.375008370013557,-0.7134424257019928,-1.9202467619600017,0.015444258750058065,1.8412831768448499,0.3641944990450026,-1.7473875133945056,-0.4122707210185077,-0.2507110965720388,0.895706279494898,2.399459794139139,-1.4342111380699536,0.7843912225536828,-2.3491080103801054,-2.68066702779601,2.1826360062112453,1.2852682240827786,0.6012357220462564,0.7402101657944995,2.041469500022426,0.26480767557497564,-1.1025960314322054,-1.8724080018112665,-2.0645556588586906,1.8191619037470483,-2.3150334269666253,-2.3398574218250787,1.9572629560236479,0.26386691585777805,1.8156536604548255,0.7945176924583143,0.2423173181101243,0.8964759778478205,2.232159398757421,-1.817357722341704,-3.300007205900005,-2.5057148296137703,0.2944590749299557,-1.3543882802926057,-2.2186546477908067,0.021981058634221933,-1.321009462083024,1.8751294296051673,1.4279614269172698,1.1019278518745181,-1.3386402812206235,0.35614827940757243,0.4931843574230091,0.15950187309896705,2.019893057302181,2.8818922843657524,2.463693133825555,0.8005572352852197,2.7205141736428837,-1.187839893661663,-2.3784023318427785,1.5651410113035908,0.7260713390556514,-0.09556395691031698,-0.20102415370675686,-1.5914749952007379,-0.9568955975992863,1.2561623824935917,-1.2975251079066128,0.3222116822851855,1.749017305407859,-2.2266000189998087,1.2383733482159223,0.026049906628859944,0.25238398378467464,1.0615974611745727,-0.17926052358294084,-1.583167180223375,0.2064878388120807,-1.4110611203563808,0.2771242748791671,-1.4039208870104587,1.0211895724178321,-0.7028808913642021,1.2150378175972676,-1.25793390589108,-1.9727281823674199,-2.1925327024605537,-2.9791623035185064,-0.796852167611512,-2.1167520957623758,1.8163873311417442,-0.8944282818569355,1.4303342626999949,1.6140213807064587,-2.2716469956937364,-1.2210515094519254,-2.8206838924678745,2.4200947108325828,1.619528332937648,0.988657186148133,-1.4070677941601442,-2.2798210077472327,0.794771523780507,-2.345317466745681,0.7665309715543769,0.27724818890286995,0.8616484918542848,1.4330488760872817,0.4840740676921545,2.2910325824748328,0.21686692436097615,0.40380624904482154,0.16365246890421806,2.5865041206920334,-1.0604169428094852,1.2968670815254084,-2.2998202034899458,1.7778393118065736,-0.46068647620652614,0.425465385818314,2.082537147892719,3.382517251850791,-1.791343620530838,2.025704969529233,-1.5248303081833485,-3.772836105025594,-1.2651562375731749,1.7440278213449758,1.1333905048850124,-1.9320487317208563,0.3334556154582477,-2.6396092522265144,1.3343010632102248,1.5947587517017305,-1.4852615169805101,1.1102372417560296,1.5262384791153518,-1.8682917255865996,0.3148857754916586,-1.181340093498381,1.7943422754934075,0.2377840423368443,0.7152122236369138],\"z\":[-0.4596175727321053,0.4792432003528909,0.921385123331731,-0.46666959519774986,-1.9331365235493954,-1.1473543369093915,1.5486440928966498,0.44528553328946796,0.4985141740165671,-0.8481556096447007,-1.3019665655291608,-0.6365850611659453,-1.8751914742317013,-1.254067521525085,-1.667238041356573,-0.33453593944299376,-2.26919389244239,0.8142660116713426,-0.4814143282966327,1.2243138301152057,0.18631641821988998,1.307745272503728,0.5488259221955724,1.1154383534882684,0.041387530434296806,-0.8265961948487048,0.6103696455373419,-1.1244835252453138,0.4728278958369401,0.07947840329526408,-0.8218371651095184,0.7920192570340031,0.6897334131130449,1.0256660338824084,0.5539558460257863,1.1487612049496918,0.40901801474248267,2.067995487122676,0.3746456725528741,1.1371929667878324,0.4856545648079645,0.31225404582858496,-0.8458642058404503,-0.060205046685471,1.0030279605081027,0.46807434436374357,0.9527549617423297,0.301990040591278,2.115445716096766,0.9876451243744221,-0.7656869187740863,0.2337619092249706,0.8465793114367025,0.40740100254529027,-0.5187440045105202,0.36776026017328534,0.564439817199953,-0.7527833422852156,1.1716672831141755,0.30848908414775444,1.320301973479203,0.7619697514835632,-0.4161784533605225,-1.1655500062316122,-1.7936877753486313,0.660313457564429,-0.5703108601716051,1.0354152418250242,-0.7623470538617065,-1.0859204111700438,0.8552547998852923,0.5794588066033728,-1.0544663230415274,1.2771831585639557,2.279176424041072,0.03515884739880565,0.16754333556458978,0.4737554416718793,1.2884472946064174,-0.9199854606089585,1.9301518648356888,-0.6174873621700684,-1.6444719383050663,-0.509062203173122,0.14122743351876293,0.013487657866925327,4.61717632253337,-0.083807511434838,0.050899081366060354,-0.10779467105797531,0.5418460838292728,0.5410260404455276,-0.1689377130801791,0.5370441187628464,-0.316497605927488,0.3957113646711523,-0.7502170532319196,0.1491654065516984,-3.7189194375230192,-0.2903214940542291,1.531459403925402,-1.2009270592240202,-1.3073821144513313,-0.2760229496488511,-5.2458700063630035,0.1977109809992874,0.5131743624611662,-1.570739740023781,-0.6964268741321283,-0.6498816580445391,-0.7887401623177976,1.082479404098291,-0.94232448368335,-1.618125172616219,0.11302118664134654,1.5982573052009093,0.7229351940217118,1.0283834410790553,1.7007064812514434,0.9313143303151226,-1.3552917507858,-0.8686881842317207,-0.2099832555288353,-0.12347057011917474,-1.4725008864720375,-3.3754588745546243,0.1005559261082241,0.18085880419683412,-0.6816194952991439,-3.3682825900387416,-0.7156813257083758,-0.07635619918585944,0.4083044073270588,-0.5246232897956158,1.0937779941474646,0.7494945626040779,0.08357061450021167,1.1470214908029526,1.8412806385000475,0.34222538308834327,-1.1415142273615888,0.5389805207731106],\"type\":\"scatter3d\"},{\"marker\":{\"color\":[\"darkred\",\"lightsalmon\",\"darkred\",\"darkred\",\"lightsalmon\",\"darkred\",\"red\",\"darkred\",\"red\",\"lightsalmon\",\"red\",\"lightsalmon\",\"darkred\",\"darkred\",\"lightsalmon\",\"red\",\"lightsalmon\",\"lightsalmon\",\"red\",\"lightsalmon\",\"darkred\",\"red\",\"lightsalmon\",\"lightsalmon\",\"red\",\"darkred\",\"lightsalmon\",\"lightsalmon\",\"lightsalmon\",\"darkred\",\"lightsalmon\",\"red\",\"red\",\"red\",\"red\",\"lightsalmon\"],\"size\":6,\"symbol\":\"cross\"},\"mode\":\"markers\",\"name\":\"Test\",\"x\":[2.8776122947578786,-2.87761244733883,2.9570252075657333,2.5353287747634736,-3.244926682950879,2.686821002057307,0.4363705567112671,1.7591504537410372,0.33681208169790267,-1.9644467958825604,1.2706961871032834,-3.3944186106314045,2.956662909405354,1.7745184157122087,-1.7383904447743264,1.4431707775957954,-2.1832023248355275,-3.0142653901488035,1.0134037463957206,-4.254016461601605,1.212812250893644,0.2388633907168963,-1.5804789325645976,-2.5114895732538782,0.6906513204432964,2.5411876825370108,-2.1559361737288865,-2.835825816320073,-1.4679482814418767,2.5761055971196836,-2.5601373266833725,-0.042244055706920754,-0.9499950727229916,-1.5651242496867837,-0.46802580004776495,-2.6825945892580827],\"y\":[0.13337128900623216,0.8499063940121737,1.7440083021641177,1.8796293933956756,0.25534558153590825,2.629114247178393,-1.832444599234541,1.3822507824044779,-1.989375001193338,0.23271070046090248,-1.3806628136092105,1.2759415746882241,1.1616838463095902,-0.7819306595699186,-0.41591079766592476,-1.2421930420834135,0.000125752922995196,2.281991390234154,-0.7919266037844388,2.259071590223999,0.14972071254595767,-2.1676319703524127,-0.6430979220730039,1.3230383274606345,-2.4053005828486915,0.6088293753007955,1.099374601353411,0.722752526571753,-0.6963959853940257,0.45103135432715596,1.079476099356124,-2.1183000235003746,-1.9543475238987689,-2.1524823066560552,-2.111962483179239,1.8756339886527054],\"z\":[0.1616750710438757,0.14517494036226647,0.8565767939321434,0.22439286162869285,1.986232766021171,0.891794621196108,-0.7245483068794137,-1.4337153369945717,-1.2494671826636516,-0.290810694972244,0.3130043044100246,1.3135349970112373,1.2167628375712025,1.5158549343154104,0.0877814154237907,0.8206275067328253,0.7799439048214388,0.7619144009417282,-2.7635116437147103,1.3549501884677038,1.1354683474361333,0.5626524232703053,1.5295316563459302,-1.339776257911712,1.4959709990745051,0.9812756256405395,0.4682506149768879,1.3182537858412042,0.92629073029022,0.9340990349366382,-0.8665614158550384,-0.23571834154682347,0.31640723804405285,-0.707938996161379,2.4039891731909866,0.6627517857541896],\"type\":\"scatter3d\"}],                        {\"template\":{\"data\":{\"histogram2dcontour\":[{\"type\":\"histogram2dcontour\",\"colorbar\":{\"outlinewidth\":0,\"ticks\":\"\"},\"colorscale\":[[0.0,\"#0d0887\"],[0.1111111111111111,\"#46039f\"],[0.2222222222222222,\"#7201a8\"],[0.3333333333333333,\"#9c179e\"],[0.4444444444444444,\"#bd3786\"],[0.5555555555555556,\"#d8576b\"],[0.6666666666666666,\"#ed7953\"],[0.7777777777777778,\"#fb9f3a\"],[0.8888888888888888,\"#fdca26\"],[1.0,\"#f0f921\"]]}],\"choropleth\":[{\"type\":\"choropleth\",\"colorbar\":{\"outlinewidth\":0,\"ticks\":\"\"}}],\"histogram2d\":[{\"type\":\"histogram2d\",\"colorbar\":{\"outlinewidth\":0,\"ticks\":\"\"},\"colorscale\":[[0.0,\"#0d0887\"],[0.1111111111111111,\"#46039f\"],[0.2222222222222222,\"#7201a8\"],[0.3333333333333333,\"#9c179e\"],[0.4444444444444444,\"#bd3786\"],[0.5555555555555556,\"#d8576b\"],[0.6666666666666666,\"#ed7953\"],[0.7777777777777778,\"#fb9f3a\"],[0.8888888888888888,\"#fdca26\"],[1.0,\"#f0f921\"]]}],\"heatmap\":[{\"type\":\"heatmap\",\"colorbar\":{\"outlinewidth\":0,\"ticks\":\"\"},\"colorscale\":[[0.0,\"#0d0887\"],[0.1111111111111111,\"#46039f\"],[0.2222222222222222,\"#7201a8\"],[0.3333333333333333,\"#9c179e\"],[0.4444444444444444,\"#bd3786\"],[0.5555555555555556,\"#d8576b\"],[0.6666666666666666,\"#ed7953\"],[0.7777777777777778,\"#fb9f3a\"],[0.8888888888888888,\"#fdca26\"],[1.0,\"#f0f921\"]]}],\"heatmapgl\":[{\"type\":\"heatmapgl\",\"colorbar\":{\"outlinewidth\":0,\"ticks\":\"\"},\"colorscale\":[[0.0,\"#0d0887\"],[0.1111111111111111,\"#46039f\"],[0.2222222222222222,\"#7201a8\"],[0.3333333333333333,\"#9c179e\"],[0.4444444444444444,\"#bd3786\"],[0.5555555555555556,\"#d8576b\"],[0.6666666666666666,\"#ed7953\"],[0.7777777777777778,\"#fb9f3a\"],[0.8888888888888888,\"#fdca26\"],[1.0,\"#f0f921\"]]}],\"contourcarpet\":[{\"type\":\"contourcarpet\",\"colorbar\":{\"outlinewidth\":0,\"ticks\":\"\"}}],\"contour\":[{\"type\":\"contour\",\"colorbar\":{\"outlinewidth\":0,\"ticks\":\"\"},\"colorscale\":[[0.0,\"#0d0887\"],[0.1111111111111111,\"#46039f\"],[0.2222222222222222,\"#7201a8\"],[0.3333333333333333,\"#9c179e\"],[0.4444444444444444,\"#bd3786\"],[0.5555555555555556,\"#d8576b\"],[0.6666666666666666,\"#ed7953\"],[0.7777777777777778,\"#fb9f3a\"],[0.8888888888888888,\"#fdca26\"],[1.0,\"#f0f921\"]]}],\"surface\":[{\"type\":\"surface\",\"colorbar\":{\"outlinewidth\":0,\"ticks\":\"\"},\"colorscale\":[[0.0,\"#0d0887\"],[0.1111111111111111,\"#46039f\"],[0.2222222222222222,\"#7201a8\"],[0.3333333333333333,\"#9c179e\"],[0.4444444444444444,\"#bd3786\"],[0.5555555555555556,\"#d8576b\"],[0.6666666666666666,\"#ed7953\"],[0.7777777777777778,\"#fb9f3a\"],[0.8888888888888888,\"#fdca26\"],[1.0,\"#f0f921\"]]}],\"mesh3d\":[{\"type\":\"mesh3d\",\"colorbar\":{\"outlinewidth\":0,\"ticks\":\"\"}}],\"scatter\":[{\"fillpattern\":{\"fillmode\":\"overlay\",\"size\":10,\"solidity\":0.2},\"type\":\"scatter\"}],\"parcoords\":[{\"type\":\"parcoords\",\"line\":{\"colorbar\":{\"outlinewidth\":0,\"ticks\":\"\"}}}],\"scatterpolargl\":[{\"type\":\"scatterpolargl\",\"marker\":{\"colorbar\":{\"outlinewidth\":0,\"ticks\":\"\"}}}],\"bar\":[{\"error_x\":{\"color\":\"#2a3f5f\"},\"error_y\":{\"color\":\"#2a3f5f\"},\"marker\":{\"line\":{\"color\":\"#E5ECF6\",\"width\":0.5},\"pattern\":{\"fillmode\":\"overlay\",\"size\":10,\"solidity\":0.2}},\"type\":\"bar\"}],\"scattergeo\":[{\"type\":\"scattergeo\",\"marker\":{\"colorbar\":{\"outlinewidth\":0,\"ticks\":\"\"}}}],\"scatterpolar\":[{\"type\":\"scatterpolar\",\"marker\":{\"colorbar\":{\"outlinewidth\":0,\"ticks\":\"\"}}}],\"histogram\":[{\"marker\":{\"pattern\":{\"fillmode\":\"overlay\",\"size\":10,\"solidity\":0.2}},\"type\":\"histogram\"}],\"scattergl\":[{\"type\":\"scattergl\",\"marker\":{\"colorbar\":{\"outlinewidth\":0,\"ticks\":\"\"}}}],\"scatter3d\":[{\"type\":\"scatter3d\",\"line\":{\"colorbar\":{\"outlinewidth\":0,\"ticks\":\"\"}},\"marker\":{\"colorbar\":{\"outlinewidth\":0,\"ticks\":\"\"}}}],\"scattermapbox\":[{\"type\":\"scattermapbox\",\"marker\":{\"colorbar\":{\"outlinewidth\":0,\"ticks\":\"\"}}}],\"scatterternary\":[{\"type\":\"scatterternary\",\"marker\":{\"colorbar\":{\"outlinewidth\":0,\"ticks\":\"\"}}}],\"scattercarpet\":[{\"type\":\"scattercarpet\",\"marker\":{\"colorbar\":{\"outlinewidth\":0,\"ticks\":\"\"}}}],\"carpet\":[{\"aaxis\":{\"endlinecolor\":\"#2a3f5f\",\"gridcolor\":\"white\",\"linecolor\":\"white\",\"minorgridcolor\":\"white\",\"startlinecolor\":\"#2a3f5f\"},\"baxis\":{\"endlinecolor\":\"#2a3f5f\",\"gridcolor\":\"white\",\"linecolor\":\"white\",\"minorgridcolor\":\"white\",\"startlinecolor\":\"#2a3f5f\"},\"type\":\"carpet\"}],\"table\":[{\"cells\":{\"fill\":{\"color\":\"#EBF0F8\"},\"line\":{\"color\":\"white\"}},\"header\":{\"fill\":{\"color\":\"#C8D4E3\"},\"line\":{\"color\":\"white\"}},\"type\":\"table\"}],\"barpolar\":[{\"marker\":{\"line\":{\"color\":\"#E5ECF6\",\"width\":0.5},\"pattern\":{\"fillmode\":\"overlay\",\"size\":10,\"solidity\":0.2}},\"type\":\"barpolar\"}],\"pie\":[{\"automargin\":true,\"type\":\"pie\"}]},\"layout\":{\"autotypenumbers\":\"strict\",\"colorway\":[\"#636efa\",\"#EF553B\",\"#00cc96\",\"#ab63fa\",\"#FFA15A\",\"#19d3f3\",\"#FF6692\",\"#B6E880\",\"#FF97FF\",\"#FECB52\"],\"font\":{\"color\":\"#2a3f5f\"},\"hovermode\":\"closest\",\"hoverlabel\":{\"align\":\"left\"},\"paper_bgcolor\":\"white\",\"plot_bgcolor\":\"#E5ECF6\",\"polar\":{\"bgcolor\":\"#E5ECF6\",\"angularaxis\":{\"gridcolor\":\"white\",\"linecolor\":\"white\",\"ticks\":\"\"},\"radialaxis\":{\"gridcolor\":\"white\",\"linecolor\":\"white\",\"ticks\":\"\"}},\"ternary\":{\"bgcolor\":\"#E5ECF6\",\"aaxis\":{\"gridcolor\":\"white\",\"linecolor\":\"white\",\"ticks\":\"\"},\"baxis\":{\"gridcolor\":\"white\",\"linecolor\":\"white\",\"ticks\":\"\"},\"caxis\":{\"gridcolor\":\"white\",\"linecolor\":\"white\",\"ticks\":\"\"}},\"coloraxis\":{\"colorbar\":{\"outlinewidth\":0,\"ticks\":\"\"}},\"colorscale\":{\"sequential\":[[0.0,\"#0d0887\"],[0.1111111111111111,\"#46039f\"],[0.2222222222222222,\"#7201a8\"],[0.3333333333333333,\"#9c179e\"],[0.4444444444444444,\"#bd3786\"],[0.5555555555555556,\"#d8576b\"],[0.6666666666666666,\"#ed7953\"],[0.7777777777777778,\"#fb9f3a\"],[0.8888888888888888,\"#fdca26\"],[1.0,\"#f0f921\"]],\"sequentialminus\":[[0.0,\"#0d0887\"],[0.1111111111111111,\"#46039f\"],[0.2222222222222222,\"#7201a8\"],[0.3333333333333333,\"#9c179e\"],[0.4444444444444444,\"#bd3786\"],[0.5555555555555556,\"#d8576b\"],[0.6666666666666666,\"#ed7953\"],[0.7777777777777778,\"#fb9f3a\"],[0.8888888888888888,\"#fdca26\"],[1.0,\"#f0f921\"]],\"diverging\":[[0,\"#8e0152\"],[0.1,\"#c51b7d\"],[0.2,\"#de77ae\"],[0.3,\"#f1b6da\"],[0.4,\"#fde0ef\"],[0.5,\"#f7f7f7\"],[0.6,\"#e6f5d0\"],[0.7,\"#b8e186\"],[0.8,\"#7fbc41\"],[0.9,\"#4d9221\"],[1,\"#276419\"]]},\"xaxis\":{\"gridcolor\":\"white\",\"linecolor\":\"white\",\"ticks\":\"\",\"title\":{\"standoff\":15},\"zerolinecolor\":\"white\",\"automargin\":true,\"zerolinewidth\":2},\"yaxis\":{\"gridcolor\":\"white\",\"linecolor\":\"white\",\"ticks\":\"\",\"title\":{\"standoff\":15},\"zerolinecolor\":\"white\",\"automargin\":true,\"zerolinewidth\":2},\"scene\":{\"xaxis\":{\"backgroundcolor\":\"#E5ECF6\",\"gridcolor\":\"white\",\"linecolor\":\"white\",\"showbackground\":true,\"ticks\":\"\",\"zerolinecolor\":\"white\",\"gridwidth\":2},\"yaxis\":{\"backgroundcolor\":\"#E5ECF6\",\"gridcolor\":\"white\",\"linecolor\":\"white\",\"showbackground\":true,\"ticks\":\"\",\"zerolinecolor\":\"white\",\"gridwidth\":2},\"zaxis\":{\"backgroundcolor\":\"#E5ECF6\",\"gridcolor\":\"white\",\"linecolor\":\"white\",\"showbackground\":true,\"ticks\":\"\",\"zerolinecolor\":\"white\",\"gridwidth\":2}},\"shapedefaults\":{\"line\":{\"color\":\"#2a3f5f\"}},\"annotationdefaults\":{\"arrowcolor\":\"#2a3f5f\",\"arrowhead\":0,\"arrowwidth\":1},\"geo\":{\"bgcolor\":\"white\",\"landcolor\":\"#E5ECF6\",\"subunitcolor\":\"white\",\"showland\":true,\"showlakes\":true,\"lakecolor\":\"white\"},\"title\":{\"x\":0.05},\"mapbox\":{\"style\":\"light\"}}},\"title\":{\"text\":\"Gr\\u00e1fico con n\\u00b0 componentes = 3\"},\"scene\":{\"xaxis\":{\"title\":{\"text\":\"componente 1\"}},\"yaxis\":{\"title\":{\"text\":\"componente 2\"}},\"zaxis\":{\"title\":{\"text\":\"componente 3\"}}}},                        {\"responsive\": true}                    ).then(function(){\n",
              "                            \n",
              "var gd = document.getElementById('274902ff-0dc8-483f-9d91-3094ff0d8980');\n",
              "var x = new MutationObserver(function (mutations, observer) {{\n",
              "        var display = window.getComputedStyle(gd).display;\n",
              "        if (!display || display === 'none') {{\n",
              "            console.log([gd, 'removed!']);\n",
              "            Plotly.purge(gd);\n",
              "            observer.disconnect();\n",
              "        }}\n",
              "}});\n",
              "\n",
              "// Listen for the removal of the full notebook cells\n",
              "var notebookContainer = gd.closest('#notebook-container');\n",
              "if (notebookContainer) {{\n",
              "    x.observe(notebookContainer, {childList: true});\n",
              "}}\n",
              "\n",
              "// Listen for the clearing of the current output cell\n",
              "var outputEl = gd.closest('.output');\n",
              "if (outputEl) {{\n",
              "    x.observe(outputEl, {childList: true});\n",
              "}}\n",
              "\n",
              "                        })                };                            </script>        </div>\n",
              "</body>\n",
              "</html>"
            ]
          },
          "metadata": {}
        }
      ],
      "source": [
        "# ajustamos movimiento del grafico 3D, para mejor comprension de los datos, movemos con el cursor, podemos hacer zoom\n",
        "mov = False\n",
        "rotulos = {'u' : 'componente 1', 'v' : 'componente 2', 'w' : 'componente 3', 'titulo':'Gráfico con n° componentes = 3'}\n",
        "scatter3D_cat(X_train_cen, X_test , y_train, predicciones_3 , V, m_train, s_train, labels=rotulos)"
      ],
      "id": "e974c2da-69e9-4847-bd02-042c0d61ad45"
    },
    {
      "cell_type": "markdown",
      "id": "fe27b25c-fe6f-402a-8209-e6dc296504f1",
      "metadata": {
        "id": "fe27b25c-fe6f-402a-8209-e6dc296504f1"
      },
      "source": [
        "## Performance\n",
        "\n",
        "Con la función *performance* obtenemos para cada modelo la métrica de aciertos y un vector de acierto-error, el cual nos ayudará a distinguir los aciertos y errores a la hora de predecir.\n",
        "\n",
        "### Proporción de aciertos\n",
        "En la siguiente tabla podemos observar la proporción de aciertos y la matriz de consfusión asociada a cada modelo:"
      ]
    },
    {
      "cell_type": "code",
      "execution_count": null,
      "id": "204a6edb-655f-4f12-8552-26f57c6b7906",
      "metadata": {
        "colab": {
          "base_uri": "https://localhost:8080/"
        },
        "id": "204a6edb-655f-4f12-8552-26f57c6b7906",
        "outputId": "d19e89a1-af1c-421b-a8ca-b44773217536"
      },
      "outputs": [
        {
          "output_type": "stream",
          "name": "stdout",
          "text": [
            " \n",
            "Proporción de aciertos (Modelo 1):\n",
            "0.8055555555555556\n",
            " \n",
            "Proporción de aciertos (Modelo 2):\n",
            "0.9444444444444444\n",
            " \n",
            "Proporción de aciertos (Modelo 3):\n",
            "0.9444444444444444\n",
            " \n",
            "Proporción de aciertos (Modelo 4):\n",
            "0.9722222222222222\n"
          ]
        }
      ],
      "source": [
        "funciones={'f':clas_KNN, 'aciertos':tasa_aciertos, 'param_f':2, 'cat_acierto':4 }\n",
        "test = performance(dict_f=funciones, x=X_train_cen, x_test=X_test, y_train=y_train, y_test=y_test, aVec=V, med=m_train, s=s_train, modelos=4)"
      ]
    },
    {
      "cell_type": "code",
      "source": [
        "# C\n",
        "print(\"\\nModelo 1\\n\")\n",
        "matriz_confusión(predicciones_1, y_test)\n",
        "print(\"\\nModelo 2\\n\")\n",
        "matriz_confusión(predicciones_2, y_test)\n",
        "print(\"\\nModelo 3\\n\")\n",
        "matriz_confusión(predicciones_3, y_test)\n",
        "print(\"\\nModelo 4\\n\")\n",
        "matriz_confusión(predicciones_4, y_test)"
      ],
      "metadata": {
        "colab": {
          "base_uri": "https://localhost:8080/"
        },
        "id": "iAZlhbQQNuRw",
        "outputId": "e8635bc1-7c4b-43fc-e0ad-53938fd55ba7"
      },
      "id": "iAZlhbQQNuRw",
      "execution_count": null,
      "outputs": [
        {
          "output_type": "stream",
          "name": "stdout",
          "text": [
            "\n",
            "Modelo 1\n",
            "\n",
            "        Predicción 1  Predicción 2  Predicción 3\n",
            "Real 1            13             1             0\n",
            "Real 2             1            12             0\n",
            "Real 3             0             2             7\n",
            "\n",
            "Modelo 2\n",
            "\n",
            "        Predicción 1  Predicción 2  Predicción 3\n",
            "Real 1            13             1             0\n",
            "Real 2             0            13             0\n",
            "Real 3             0             1             8\n",
            "\n",
            "Modelo 3\n",
            "\n",
            "        Predicción 1  Predicción 2  Predicción 3\n",
            "Real 1            14             0             0\n",
            "Real 2             1            11             1\n",
            "Real 3             0             0             9\n",
            "\n",
            "Modelo 4\n",
            "\n",
            "        Predicción 1  Predicción 2  Predicción 3\n",
            "Real 1            14             0             0\n",
            "Real 2             0            12             1\n",
            "Real 3             0             0             9\n"
          ]
        }
      ]
    },
    {
      "cell_type": "markdown",
      "source": [
        "De las matrices de confusión se concluye que los modelos desarrollados predicen las categorías de los vinos con buena precisión ya que casi todos los resultados de los vinos de la muestra de testeo se encuentran en la diagonal, es decir, dentro de los casos donde el valor predicho coincide con el real.\n",
        "\n",
        "Podemos notar que el primer modelo tiene más cantidad de predicciones por fuera de la diagonal, lo que indica que es el de menor precisión. Esto tiene sentido ya que este modelo solo usa 1 componente. Pierde mucha información, por lo que su taza de aciertos es la mas baja en comparación a los otros modelos que utilizan más componentes principales."
      ],
      "metadata": {
        "id": "-VScCLqVXP4Q"
      },
      "id": "-VScCLqVXP4Q"
    },
    {
      "cell_type": "markdown",
      "id": "86970793-d046-4977-8861-8b1c3038b792",
      "metadata": {
        "id": "86970793-d046-4977-8861-8b1c3038b792"
      },
      "source": [
        "### Conclusiones finales\n",
        "\n",
        " A modo de cierre, podemos decir que mediante la realización de este trabajo práctico hemos adquirido importantes conocimientos sobre el Análisis de Componentes Principales (PCA, por sus siglas en inglés). Esta técnica nos permitió reducir la dimensionalidad de los datos de 13 variables a 1, 2, 3 o 4, preservando al mismo tiempo la mayor cantidad posible de la variabilidad original, lo cual nos brindó una mayor practicidad a la hora de manipular los datos.\n",
        "\n",
        " Observamos que, al principio, agregar más componentes principales aumenta la precisión del modelo. Esto se explica ya que aumenta la capacidad del mismo para capturar más variabilidad en los datos. Sin embargo, alcanza un punto en el que añadir componentes adicionales no proporciona una mejora significativa en la capacidad predictiva del modelo. Esto ocurre porque a partir de la componente 3, la varianza atribuída es bastante menor.\n",
        "\n",
        "   También pudimos observar como PCA puede ayudar a visualizar datos de alta dimensionalidad en un espacio bidimensional o tridimensional. Al reducir la dimensionalidad, es posible crear visualizaciones que permiten una comprensión más fácil de los datos.\n",
        "\n",
        "   Este trabajo nos ha sido de gran utilidad para profundizar y expandir nuestro conocimiento sobre el PCA tanto en la parte teórica como en la práctica, mediante la implementación de la técnica a un conjunto de datos reales junto al desarrollo de un modelo de predicción KNN (K nearest neighbors) para llevar a cabo un sistema de recomendación de vinos.\n",
        "\n",
        "\n"
      ]
    }
  ],
  "metadata": {
    "colab": {
      "provenance": [],
      "include_colab_link": true
    },
    "kernelspec": {
      "display_name": "Python 3 (ipykernel)",
      "language": "python",
      "name": "python3"
    },
    "language_info": {
      "codemirror_mode": {
        "name": "ipython",
        "version": 3
      },
      "file_extension": ".py",
      "mimetype": "text/x-python",
      "name": "python",
      "nbconvert_exporter": "python",
      "pygments_lexer": "ipython3",
      "version": "3.10.9"
    }
  },
  "nbformat": 4,
  "nbformat_minor": 5
}